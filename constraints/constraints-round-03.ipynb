{
 "cells": [
  {
   "cell_type": "markdown",
   "metadata": {},
   "source": [
    "# 라운드 #3 제한 규칙 (Constraints in the round #3)"
   ]
  },
  {
   "cell_type": "markdown",
   "metadata": {},
   "source": [
    "**규칙 1.** [`loa.predefined`](https://github.com/daew0n/loa/tree/main/loa/predefined) 에 아래와 같이 정의된 6개의 팀을 이용하여 대결을 하게 된다.\n",
    "\n",
    "- Blance\n",
    "- Bomb\n",
    "- Cards\n",
    "- Chessmen\n",
    "- Forest\n",
    "- LoL\n",
    "\n",
    "소스코드를 참고하여 유닛의 능력치 및 팀 구성을 파악한 후, 최적의 `Team.arrange` 함수를 구현한다."
   ]
  },
  {
   "cell_type": "markdown",
   "metadata": {},
   "source": [
    "**규칙 2.** **턴 40회**를 진행하는 단일 게임을 **6회 진행**하여 많이 이긴 팀이 승리한 것으로 판정한다.\n",
    "단일 게임마다 참가자의 팀은 미리 정의된 유닛 세트로 자동 설정된다.\n",
    "\n",
    "- 단일 게임 1 (턴 40회): **Balance**\n",
    "- 단일 게임 2 (턴 40회): **Bomb**\n",
    "- 단일 게임 3 (턴 40회): **Cards**\n",
    "- 단일 게임 4 (턴 40회): **Chessmen**\n",
    "- 단일 게임 5 (턴 40회): **Forest**\n",
    "- 단일 게임 6 (턴 40회): **LoL**\n",
    "\n",
    "단일 게임이 종료될 때마다 (턴 40회가 끝날 때마다) 살아남은 유닛이 많은 팀이 해당 단일 게임에서 승리하며, 최종적으로 단일 게임을 많이 이긴 팀이 승리한다.\n",
    "\n",
    "예를 들어, 단일 게임1, 2, 4, 5에서 승리하였다면 스코어 4:2로 상대팀에게 승리하게 된다."
   ]
  },
  {
   "cell_type": "markdown",
   "metadata": {},
   "source": [
    "**규칙 3.** 유닛의 **회피 능력치 $\\text{EVS}$는 0으로 설정**한다. 즉, 회피 능력치는 사용하지 않는다."
   ]
  },
  {
   "cell_type": "markdown",
   "metadata": {},
   "source": [
    "**규칙 4.** `Team.arrange()` 함수의 실행시간은 **0.05초**를 초과할 수 없다."
   ]
  }
 ],
 "metadata": {
  "kernelspec": {
   "display_name": "Python 3",
   "language": "python",
   "name": "python3"
  },
  "language_info": {
   "codemirror_mode": {
    "name": "ipython",
    "version": 3
   },
   "file_extension": ".py",
   "mimetype": "text/x-python",
   "name": "python",
   "nbconvert_exporter": "python",
   "pygments_lexer": "ipython3",
   "version": "3.8.5"
  }
 },
 "nbformat": 4,
 "nbformat_minor": 4
}
