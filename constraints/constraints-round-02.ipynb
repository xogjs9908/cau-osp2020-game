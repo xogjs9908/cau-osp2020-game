{
 "cells": [
  {
   "cell_type": "markdown",
   "metadata": {},
   "source": [
    "# 라운드 #2 제한 규칙 (Constraints in the round #2)"
   ]
  },
  {
   "cell_type": "markdown",
   "metadata": {},
   "source": [
    "**규칙 1.** 팀 객체 생성 시 유닛의 개수는 반드시 **10개**여야 한다. 즉, 10개 미만이거나 10개 초과는 허용하지 않는다.\n",
    "하지만 다른 팀과 대결 중에는 유닛이 죽을 수 있으므로 유닛의 개수가 변할 수 있다."
   ]
  },
  {
   "cell_type": "markdown",
   "metadata": {},
   "source": [
    "**규칙 2.** **턴 40회**를 진행하는 단일 게임을 **10회 반복**하여 많이 이긴 팀이 승리한 것으로 판정한다.\n",
    "단일 게임에서, **2회 턴 주기**로 살아남은 유닛이 많은 팀에게 1점을 부여하고, 모든 턴을 마쳤을 때 많은 점수를 획득한 팀이 단일 게임에서 승리한다.\n",
    "예를 들어, 단일 게임에서 20회의 턴이 진행되는 경우, 10회의 점수 부여가 이루어지게 된다.\n",
    "이 규칙에 따라, 초반에 적 유닛을 가능한 많이 제거하는 팀이 승리할 가능성이 높다."
   ]
  },
  {
   "cell_type": "markdown",
   "metadata": {},
   "source": [
    "**규칙 3.** 유닛의 **$\\text{ATT}$ 최대값은 14**이다. 따라서 팀에서 유닛 생성 시 모든 유닛의 $\\text{ATT}$를 14 이하의 값으로 설정해야 한다."
   ]
  },
  {
   "cell_type": "markdown",
   "metadata": {},
   "source": [
    "**규칙 4.** 유닛의 **$\\text{HP}$ 최소값은 10**이다. 따라서 팀에서 유닛 생성 시 모든 유닛의 $\\text{HP}$를 10 이상의 값으로 설정해야 한다."
   ]
  },
  {
   "cell_type": "markdown",
   "metadata": {},
   "source": [
    "**규칙 5.** 유닛 하나의 **$\\text{HP}$**, **$\\text{ATT}$**, **$\\text{ARM}$**은 다음 수식의 제한을 받는다.\n",
    "\n",
    "$$\\text{HP} + \\text{ATT} + 1.5 \\cdot \\text{ARM} \\leq 50.$$\n",
    "\n",
    "이 제한 수식을 고려하여 각 유닛의 $\\text{HP}$, $\\text{ATT}$, $\\text{ARM}$을 적절히 분배할 필요가 있다."
   ]
  },
  {
   "cell_type": "markdown",
   "metadata": {},
   "source": [
    "**규칙 6.** 유닛의 **회피 능력치 $\\text{EVS}$는 0으로 설정**한다. 라운드 #1에서는 회피 능력치를 도입함에 따라 결과 변동 폭이 컸지만, 라운드 #2에서는 회피 능력치를 제거하기로 결정하였다."
   ]
  },
  {
   "cell_type": "markdown",
   "metadata": {},
   "source": [
    "**규칙 7.** `Team.arrange()` 함수의 실행시간은 **0.05초**를 초과할 수 없다."
   ]
  }
 ],
 "metadata": {
  "kernelspec": {
   "display_name": "Python 3",
   "language": "python",
   "name": "python3"
  },
  "language_info": {
   "codemirror_mode": {
    "name": "ipython",
    "version": 3
   },
   "file_extension": ".py",
   "mimetype": "text/x-python",
   "name": "python",
   "nbconvert_exporter": "python",
   "pygments_lexer": "ipython3",
   "version": "3.8.5"
  }
 },
 "nbformat": 4,
 "nbformat_minor": 4
}
