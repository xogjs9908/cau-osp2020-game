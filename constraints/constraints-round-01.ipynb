{
 "cells": [
  {
   "cell_type": "markdown",
   "metadata": {},
   "source": [
    "# 라운드 #1 제한 규칙 (Constraints in the round #1)"
   ]
  },
  {
   "cell_type": "markdown",
   "metadata": {},
   "source": [
    "**규칙 1.** 팀 객체 생성 시 유닛의 개수는 반드시 **10개**여야 한다. 즉, 10개 미만이거나 10개 초과는 허용하지 않는다.\n",
    "하지만 다른 팀과 대결 중에는 유닛이 죽을 수 있으므로 유닛의 개수가 변할 수 있다."
   ]
  },
  {
   "cell_type": "markdown",
   "metadata": {},
   "source": [
    "**규칙 2.** 모든 유닛의 **$\\text{HP}$**, **$\\text{ATT}$**, **$\\text{ARM}$**은 다음 수식의 제한을 받는다.\n",
    "\n",
    "$$\\sum_{i=0}^{9} {(x_{i}.\\text{HP} + x_{i}.\\text{ATT} + x_{i}.\\text{ARM})} \\leq 200.$$\n",
    "\n",
    "위 $x_{i}$는 팀 내에서 인덱스 $i$에 위치하는 유닛을 의미한다.\n",
    "이 제한 수식을 고려하여 각 유닛들의 HP, ATT, ARM을 적절히 분배할 필요가 있다."
   ]
  },
  {
   "cell_type": "markdown",
   "metadata": {},
   "source": [
    "**규칙 3.** 각 유닛의 회피 능력치 **$\\text{EVS}$**의 최대값은 10이다. 즉, 각 유닛의 $\\text{EVS}$는 10 이하여야 한다."
   ]
  },
  {
   "cell_type": "markdown",
   "metadata": {},
   "source": [
    "**규칙 4.** 각 유닛의 $\\text{EVS}$ 및 $\\text{ARM}$은 다음 수식의 제한을 받는다.\n",
    "\n",
    "$$\\sum_{i=0}^{9}{\\frac{x_{i}.\\text{EVS}}{x_{i}.\\text{ARM}}} \\leq 20.$$\n",
    "위 수식에서 $x_{i}$는 **규칙 3**에서처럼 팀 내 인덱스 $i$에 위치하는 유닛을 의미한다.\n",
    "이 제한 수식은 각 유닛의 $\\frac{x_{i}.\\text{EVS}}{x_{i}.\\text{ARM}}$ 합이 20보다 작거나 같아야 한다는 것을 의미한다."
   ]
  },
  {
   "cell_type": "markdown",
   "metadata": {},
   "source": [
    "**규칙 5.** `Team.arrange()` 함수의 실행시간은 **0.01초**를 초과할 수 없다."
   ]
  }
 ],
 "metadata": {
  "kernelspec": {
   "display_name": "Python 3",
   "language": "python",
   "name": "python3"
  },
  "language_info": {
   "codemirror_mode": {
    "name": "ipython",
    "version": 3
   },
   "file_extension": ".py",
   "mimetype": "text/x-python",
   "name": "python",
   "nbconvert_exporter": "python",
   "pygments_lexer": "ipython3",
   "version": "3.8.5"
  }
 },
 "nbformat": 4,
 "nbformat_minor": 4
}
